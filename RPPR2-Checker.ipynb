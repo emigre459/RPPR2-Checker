{
 "cells": [
  {
   "cell_type": "markdown",
   "metadata": {},
   "source": [
    "# Purpose\n",
    "\n",
    "The U.S. Department of Energy's Solar Energy Technologies Office (SETO) utilizes a variety of documents for projects it funds to report on their current status. One such document is the RPPR-2 spreadsheet. This tool checks the RPPR-2 `.XLSX` file to see if it complies with SETO's template requirements file."
   ]
  },
  {
   "cell_type": "markdown",
   "metadata": {},
   "source": [
    "# To Do List\n",
    "\n",
    "Here are the items I'm currently thinking need to be handled by this checker (updating these as I think of more):\n",
    "\n",
    "1. Ask users to input the preceding quarter’s RPPR2 (if the award isn’t new) as well as the current RPPR2 so that we can check for cumulative updates.\n",
    "2. Check each column AND row for any referential integrity issues:\n",
    "    1. If one column is calculated from another, check that the calculation is executing properly\n",
    "    2. Start and end dates should be earlier and later than one another, resp.\n",
    "    3. Define what columns are required in order to do even a partial data save on a given column\n",
    "    4. Check column dtypes for correctness\n",
    "    5. Check that percentages are between 1 and 0\n",
    "3. "
   ]
  },
  {
   "cell_type": "markdown",
   "metadata": {},
   "source": [
    "# The Plan of Action\n",
    "\n",
    "1. Import the template RPPR2\n",
    "    * How to first inspect the tab names and tab count? Pandas won't do that automatically I think...\n",
    "    * If you can count tabs only, return error if tab count is off, otherwise name the tabs that weren't expected as erroneous\n",
    "2. Use the template to define: \n",
    "    * What the list of proper tab names and count are\n",
    "    * The size of the header above column names\n",
    "    * Column names, number, and dtypes\n",
    "    * For Accomplishments tab (only, I think?): Column EOL indicators so you know when you're seeing a new category\n",
    "3. Pull in the n-1 RPPR2 (if not a new award) and the current RPPR2\n",
    "    1. Compare the two and make sure older data didn't disappear in newer RPPR2\n",
    "    2. Check the current RPPR2 for compliance with template requirements\n",
    "    3. If non-compliant, print out diagnostic report for everything obvious that you found\n",
    "        * Include a line for non-equivalency that you may not have a pre-defined rule for and flag it in a separate repo file that can be referenced later for improving the code (a log file will work for this)\n",
    "            * Lack of equivalency can be checked very thoroughly using `dataframe.equals(other_df)`, but it actually checks for identical elements too. Good thing to do for making sure you got two different RPPR2s, but otherwise need a more complicated check since we don't expect the same elements each time...quite the opposite in fact! \n",
    "            * Might need to just check `dataframe.columns` for proper number and names of columns to start with"
   ]
  },
  {
   "cell_type": "code",
   "execution_count": null,
   "metadata": {},
   "outputs": [],
   "source": [
    "import pandas as pd"
   ]
  },
  {
   "cell_type": "code",
   "execution_count": null,
   "metadata": {},
   "outputs": [],
   "source": []
  }
 ],
 "metadata": {
  "kernelspec": {
   "display_name": "Python 3",
   "language": "python",
   "name": "python3"
  },
  "language_info": {
   "codemirror_mode": {
    "name": "ipython",
    "version": 3
   },
   "file_extension": ".py",
   "mimetype": "text/x-python",
   "name": "python",
   "nbconvert_exporter": "python",
   "pygments_lexer": "ipython3",
   "version": "3.6.8"
  },
  "toc": {
   "base_numbering": 1,
   "nav_menu": {},
   "number_sections": true,
   "sideBar": true,
   "skip_h1_title": false,
   "title_cell": "Table of Contents",
   "title_sidebar": "Contents",
   "toc_cell": false,
   "toc_position": {},
   "toc_section_display": true,
   "toc_window_display": false
  },
  "varInspector": {
   "cols": {
    "lenName": 16,
    "lenType": 16,
    "lenVar": 40
   },
   "kernels_config": {
    "python": {
     "delete_cmd_postfix": "",
     "delete_cmd_prefix": "del ",
     "library": "var_list.py",
     "varRefreshCmd": "print(var_dic_list())"
    },
    "r": {
     "delete_cmd_postfix": ") ",
     "delete_cmd_prefix": "rm(",
     "library": "var_list.r",
     "varRefreshCmd": "cat(var_dic_list()) "
    }
   },
   "types_to_exclude": [
    "module",
    "function",
    "builtin_function_or_method",
    "instance",
    "_Feature"
   ],
   "window_display": false
  }
 },
 "nbformat": 4,
 "nbformat_minor": 2
}
